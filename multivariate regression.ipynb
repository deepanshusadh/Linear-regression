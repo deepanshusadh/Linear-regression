{
 "cells": [
  {
   "cell_type": "code",
   "execution_count": null,
   "metadata": {},
   "outputs": [],
   "source": [
    "# applying linear regression on boston dataset using sklearn"
   ]
  },
  {
   "cell_type": "code",
   "execution_count": 1,
   "metadata": {},
   "outputs": [],
   "source": [
    "import pandas as pd\n",
    "import numpy as np\n",
    "from sklearn.datasets import load_boston"
   ]
  },
  {
   "cell_type": "code",
   "execution_count": null,
   "metadata": {},
   "outputs": [],
   "source": []
  },
  {
   "cell_type": "code",
   "execution_count": 16,
   "metadata": {},
   "outputs": [],
   "source": [
    "df=load_boston()"
   ]
  },
  {
   "cell_type": "code",
   "execution_count": 24,
   "metadata": {},
   "outputs": [
    {
     "name": "stdout",
     "output_type": "stream",
     "text": [
      "(506,)\n"
     ]
    }
   ],
   "source": [
    "X=df.data\n",
    "Y=df.target\n",
    "print(Y.shape)"
   ]
  },
  {
   "cell_type": "code",
   "execution_count": 40,
   "metadata": {},
   "outputs": [
    {
     "name": "stdout",
     "output_type": "stream",
     "text": [
      "(455, 13)\n",
      "(455,)\n"
     ]
    }
   ],
   "source": [
    "from sklearn.linear_model import LinearRegression\n",
    "from sklearn.model_selection import train_test_split\n",
    "X_train,X_test,Y_train,Y_test=train_test_split(X,Y,test_size=0.1)\n",
    "print(X_train.shape)\n",
    "print(Y_train.shape)"
   ]
  },
  {
   "cell_type": "code",
   "execution_count": 41,
   "metadata": {},
   "outputs": [
    {
     "name": "stdout",
     "output_type": "stream",
     "text": [
      "[-1.12054494e-01  5.05092762e-02  2.53675749e-02  2.79255779e+00\n",
      " -1.70277011e+01  3.67204034e+00 -6.69779329e-03 -1.61065080e+00\n",
      "  3.01379993e-01 -1.19214584e-02 -9.26690708e-01  9.97530515e-03\n",
      " -5.57080892e-01]\n",
      "37.38150047777707\n",
      "<bound method RegressorMixin.score of LinearRegression(copy_X=True, fit_intercept=True, n_jobs=None, normalize=True)>\n"
     ]
    }
   ],
   "source": [
    "LN=LinearRegression(normalize=True)\n",
    "rx=LN.fit(X_train,Y_train)\n",
    "print(rx.coef_)\n",
    "print(rx.intercept_)\n",
    "print(rx.score)"
   ]
  },
  {
   "cell_type": "code",
   "execution_count": 42,
   "metadata": {},
   "outputs": [
    {
     "name": "stdout",
     "output_type": "stream",
     "text": [
      "0.740465625635135\n"
     ]
    }
   ],
   "source": [
    "print(rx.score(X_train,Y_train))"
   ]
  },
  {
   "cell_type": "code",
   "execution_count": 43,
   "metadata": {},
   "outputs": [
    {
     "name": "stdout",
     "output_type": "stream",
     "text": [
      "0.7314213390387407\n"
     ]
    }
   ],
   "source": [
    "print(rx.score(X_test,Y_test))"
   ]
  },
  {
   "cell_type": "code",
   "execution_count": 54,
   "metadata": {},
   "outputs": [
    {
     "name": "stdout",
     "output_type": "stream",
     "text": [
      "[[18.    2.31]\n",
      " [ 0.    7.07]\n",
      " [ 0.    7.07]\n",
      " ...\n",
      " [ 0.   11.93]\n",
      " [ 0.   11.93]\n",
      " [ 0.   11.93]]\n",
      "(506, 13)\n"
     ]
    }
   ],
   "source": [
    "X=np.mat(X)\n",
    "print(X[:,1:3])\n",
    "print(X.shape)"
   ]
  },
  {
   "cell_type": "code",
   "execution_count": 58,
   "metadata": {},
   "outputs": [
    {
     "data": {
      "text/plain": [
       "0.0"
      ]
     },
     "execution_count": 58,
     "metadata": {},
     "output_type": "execute_result"
    }
   ],
   "source": [
    "X_train[,1]"
   ]
  },
  {
   "cell_type": "code",
   "execution_count": 56,
   "metadata": {},
   "outputs": [
    {
     "data": {
      "text/plain": [
       "455"
      ]
     },
     "execution_count": 56,
     "metadata": {},
     "output_type": "execute_result"
    }
   ],
   "source": [
    "X_train.shape[0]"
   ]
  },
  {
   "cell_type": "code",
   "execution_count": null,
   "metadata": {},
   "outputs": [],
   "source": [
    "def LNfunc(X,theta):\n",
    "    m=np.shape(X_train.shape[1])\n",
    "    n=X_train.shape[0]\n",
    "    p=theta[0]\n",
    "    for i in range(1,m+1):\n",
    "        for k in range(n+1):\n",
    "             p+=theta[i]*X[k,i]\n",
    "    return p\n",
    "   \n",
    "\n",
    "def error(X,Y,theta):\n",
    "    n=X_train.shape[0]\n",
    "    err=0\n",
    "    for i in range(m):\n",
    "        hx=LNfunc(X,theta)\n",
    "        err+=(hx-Y[i])**2\n",
    "    return err\n",
    "\n",
    "def Grad(X,Y,theta):\n",
    "    grad=np.zeros((2,))\n",
    "    m=X.shape[0]\n",
    "    for i in range(m):\n",
    "        hx=LNfunc(X[i],theta)\n",
    "        grad[0]+=(hx-Y[i])\n",
    "        grad[1]+=(hx-Y[i])*X[i]\n",
    "    return grad\n",
    "\n",
    "def GradientDescent(X,Y,learning_rate=0.001):\n",
    "    theta=np.zeros((2,))\n",
    "    \n",
    "    grad=Grad(X,Y,theta)\n",
    "    itr=0\n",
    "    error_list=[]\n",
    "    while(itr<=100):\n",
    "        e=error(X,Y,theta)\n",
    "        error_list.append(e)\n",
    "        theta[0]=theta[0]-learning_rate*grad[0]\n",
    "        theta[1]=theta[1]-learning_rate*grad[1]\n",
    "        itr+=1\n",
    "        ind=np.argmin(error_list)\n",
    "    \n",
    "    return ind\n",
    "        \n",
    "def GradientDescent1(X,Y,learning_rate=0.001):\n",
    "    theta=np.zeros((2,))\n",
    "    \n",
    "    grad=Grad(X,Y,theta)\n",
    "    itr=0\n",
    "    ind=GradientDescent(X,Y,learning_rate=0.001)\n",
    "    error_list=[]\n",
    "    while(itr<=ind):\n",
    "        e=error(X,Y,theta)\n",
    "        error_list.append(e)\n",
    "        theta[0]=theta[0]-learning_rate*grad[0]\n",
    "        theta[1]=theta[1]-learning_rate*grad[1]\n",
    "        itr+=1\n",
    "        \n",
    "    \n",
    "    return theta,error_list      \n",
    "    "
   ]
  }
 ],
 "metadata": {
  "kernelspec": {
   "display_name": "Python 3",
   "language": "python",
   "name": "python3"
  },
  "language_info": {
   "codemirror_mode": {
    "name": "ipython",
    "version": 3
   },
   "file_extension": ".py",
   "mimetype": "text/x-python",
   "name": "python",
   "nbconvert_exporter": "python",
   "pygments_lexer": "ipython3",
   "version": "3.7.3"
  }
 },
 "nbformat": 4,
 "nbformat_minor": 2
}
